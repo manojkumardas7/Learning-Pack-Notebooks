{
 "cells": [
  {
   "cell_type": "markdown",
   "metadata": {},
   "source": [
    "<div style=\"display:block\">\n",
    "    <div style=\"width: 20%; display: inline-block; text-align: left;\">\n",
    "    </div>\n",
    "    <div style=\"width: 59%; display: inline-block\">\n",
    "        <h1  style=\"text-align: center\">Linear Regression with Tensorflow and Gradient Descent Algorithm</h1>\n",
    "        <div style=\"width: 85%; text-align: center; display: inline-block;\"><i>Authors:</i> <strong>Manoj Kumar Das </strong> </div>\n",
    "    </div>\n",
    "    <div style=\"width: 20%; text-align: right; display: inline-block;\">\n",
    "        <div style=\"width: 100%; text-align: left; display: inline-block;\">\n",
    "            <i>Created: </i>\n",
    "            <time datetime=\"2014-03-10\" pubdate>December 5, 2017</time>\n",
    "        </div>\n",
    "        <div style=\"width: 100%; text-align: left; display: inline-block;\">\n",
    "            <i>Modified: </i>\n",
    "            <time datetime=\"2014-03-12\" pubdate>April 15, 2019</time>\n",
    "        </div>\n",
    "    </div>\n",
    "</div>"
   ]
  },
  {
   "cell_type": "markdown",
   "metadata": {},
   "source": [
    "#### Introduction \n",
    "In this small example notebook we will run you through on how to use tesnorflow for a simple linear regression model. The objective of this notebook is for you to understand the gradient descent algorithm and how the infulence of the learning rate is over reaching the global or local minima. For understanding and learning of gradient descent algorith, I would suggets to just google it. Gradient descent alogrithm is the basis from which most optimizers are derived, used in the parameter estimation for a lot of models and in most neural networks.  "
   ]
  },
  {
   "cell_type": "code",
   "execution_count": 1,
   "metadata": {},
   "outputs": [],
   "source": [
    "import warnings\n",
    "warnings.filterwarnings('ignore')\n",
    "\n",
    "import numpy as np\n",
    "import tensorflow as tf \n",
    "from IPython import display\n",
    "import matplotlib.pyplot as plt\n",
    "%matplotlib inline"
   ]
  },
  {
   "cell_type": "markdown",
   "metadata": {},
   "source": [
    "We first create a data using the normal distribution to be the independant variable$x$ and then the independent variable $y$, we put a linear relationship between $x$ and $y$ with some added noise. This example is taken from [1] in refrences. Our objective as the model suggest \"linear regression\" is to find a line \"which is the model\" that best fits to this data. So our objective is to get a predicted $y$, $y_d$ value for any given value of $x$. From the line equation we have,\n",
    "\n",
    "$y_d = W * x + b$. \n",
    "\n",
    "The objective is now translates to finding the right $W$ and $b$ value that best defines the right line which fits to the data in the best way. \n",
    "\n",
    "$W$ is initially fixed (a sampled value from a uniform distribution between -1 and 1) and $b$ is initialized to 0. With these value into consideration we determine $y_d$. A suitable loss function needs to alwasy be carfully chosen to know how wrong the model has been to determine $y_d$, in this example we use the standard mean square error loss function. \n",
    "\n",
    "\n",
    "$mse = \\frac{\\sum_{N}{(y_i - y_{di})^2}}{N}$\n",
    "\n",
    "The gradient descent algorithm takes the computed loss along with another parameter called as the learning rate and determines a new value for $W$ and $b$, such that the new $y_d$ would lead to a lesser loss when evaluted against $y$. This is done iteratively until we have a convergence observed, but a lot has to do with also on the value fixed on the learning rate. The learning rate vlaue theoretically can take a value betwen zero and once, and ideally is a number fixed closer to zero. In the below code observe that the \"train\" object takes in a vlue of \"0.4\" as the learning rate. Run the belwo code and the plot will show you how the model changes with every iteration."
   ]
  },
  {
   "cell_type": "code",
   "execution_count": 4,
   "metadata": {},
   "outputs": [],
   "source": [
    "import warnings\n",
    "import numpy as np\n",
    "import tensorflow as tf\n",
    "from IPython import display\n",
    "import matplotlib.pyplot as plt\n",
    "warnings.filterwarnings('ignore')\n",
    "%matplotlib inline\n",
    "# tf.logging.set_verbosity(tf.logging.ERROR)\n",
    "\n",
    "def linearRegression(dataPointSize, iterations):\n",
    "    plt.figure(figsize=(7, 5))\n",
    "    def myTrain(session, trainObject, iteration):\n",
    "        global plt\n",
    "        font = {'family': 'serif', \n",
    "                'color':  'blue', \n",
    "                'weight': 'normal', \n",
    "                'size': 10}\n",
    "        session.run(trainObject)\n",
    "        plt.clf();\n",
    "        plt.plot(x.eval(session=session), y.eval(session=session), 'ro');\n",
    "        plt.plot(x.eval(session=session), yReg.eval(session=session));\n",
    "        plt.text(1, -0.02, 'iteration: '+ str(iteration+1), fontdict=font);\n",
    "        display.display(plt.gcf());\n",
    "        display.clear_output(wait=True);\n",
    "#         plt.pause(0.5)\n",
    "#         print('iteration = ', iteration, 'W = ', W.eval(session=session)[0], \\\n",
    "#               'b = ', b.eval(session=session)[0], 'loss = ', loss.eval(session=session), \\\n",
    "#               'x = ', x.eval(session=session)[0], 'y = ', y.eval(session=session)[0])\n",
    "    seed = np.random.normal(0, 0.5, dataPointSize)\n",
    "    with tf.device('/device:CPU:0'):\n",
    "        x = tf.constant(seed, dtype=tf.float32)\n",
    "        y = tf.constant(0.1 * seed + 0.2 + \\\n",
    "                np.random.normal(0, 0.08, dataPointSize), dtype=tf.float32)\n",
    "        W = tf.Variable(tf.zeros([1]))\n",
    "        b = tf.Variable(tf.zeros([1]))\n",
    "        yReg = W * x + b\n",
    "        loss = tf.reduce_mean(tf.square(y - yReg))\n",
    "        train = tf.train.GradientDescentOptimizer(0.1).minimize(loss)\n",
    "    sess = tf.Session()\n",
    "    sess.run(tf.global_variables_initializer())\n",
    "    all(list(map(lambda x: myTrain(sess, train, x), range(iterations))));"
   ]
  },
  {
   "cell_type": "code",
   "execution_count": 5,
   "metadata": {},
   "outputs": [
    {
     "data": {
      "image/png": "[encoded data removed]",
      "text/plain": [
       "<Figure size 504x360 with 1 Axes>"
      ]
     },
     "metadata": {
      "needs_background": "light"
     },
     "output_type": "display_data"
    }
   ],
   "source": [
    "linearRegression(10000, 150)"
   ]
  },
  {
   "cell_type": "markdown",
   "metadata": {},
   "source": [
    "Your next objective is now to understand what \"over stepping\" is. If this is something you have covered while learning gradient descent algorithm, this means you know that the learning rate parameter when not appropriate will always skew away from reaching the required minima of your loss function. Try increasing the learning rate value in the above code to some value closer to one and replicate the occurance of over-stepping. This will help you understand over-stepping much better.  "
   ]
  },
  {
   "cell_type": "markdown",
   "metadata": {},
   "source": [
    "#### Refrences\n",
    "[1] [First contact with Tensorflow](http://jorditorres.org/research-teaching/tensorflow/first-contact-with-tensorflow-book/first-contact-with-tensorflow/)"
   ]
  },
  {
   "cell_type": "markdown",
   "metadata": {},
   "source": [
    "To The King"
   ]
  }
 ],
 "metadata": {
  "kernelspec": {
   "display_name": "Python 3",
   "language": "python",
   "name": "python3"
  },
  "language_info": {
   "codemirror_mode": {
    "name": "ipython",
    "version": 3
   },
   "file_extension": ".py",
   "mimetype": "text/x-python",
   "name": "python",
   "nbconvert_exporter": "python",
   "pygments_lexer": "ipython3",
   "version": "3.6.8"
  }
 },
 "nbformat": 4,
 "nbformat_minor": 2
}
