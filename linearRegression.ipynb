{
 "cells": [
  {
   "cell_type": "markdown",
   "metadata": {},
   "source": [
    "<div style=\"display:block\">\n",
    "    <div style=\"width: 20%; display: inline-block; text-align: left;\">\n",
    "    </div>\n",
    "    <div style=\"width: 59%; display: inline-block\">\n",
    "        <h1  style=\"text-align: center\">Linear Regression with Tensorflow and Gradient Descent Algorithm</h1>\n",
    "        <div style=\"width: 85%; text-align: center; display: inline-block;\"><i>Authors:</i> <strong>Manoj Kumar Das </strong> </div>\n",
    "    </div>\n",
    "    <div style=\"width: 20%; text-align: right; display: inline-block;\">\n",
    "        <div style=\"width: 100%; text-align: left; display: inline-block;\">\n",
    "            <i>Created: </i>\n",
    "            <time datetime=\"2014-03-10\" pubdate>December 5, 2017</time>\n",
    "        </div>\n",
    "        <div style=\"width: 100%; text-align: left; display: inline-block;\">\n",
    "            <i>Modified: </i>\n",
    "            <time datetime=\"2014-03-12\" pubdate>June 25, 2018</time>\n",
    "        </div>\n",
    "    </div>\n",
    "</div>"
   ]
  },
  {
   "cell_type": "markdown",
   "metadata": {},
   "source": [
    "#### Introduction \n",
    "In this small example notebook we will run you through on how to use tesnorflow for a simple linear regression model. The objective of this notebook is for you to understand the gradient descent algorithm and how the infulence of the learning rate is over reaching the global or local minima. For understanding and learning of gradient descent algorith, I would suggets to just google it. Gradient descent alogrithm is the basis from which most optimizers are derived, used in the parameter estimation for a lot of models and in most neural networks.  "
   ]
  },
  {
   "cell_type": "code",
   "execution_count": 1,
   "metadata": {},
   "outputs": [],
   "source": [
    "import warnings\n",
    "warnings.filterwarnings('ignore')\n",
    "\n",
    "import numpy as np\n",
    "import tensorflow as tf \n",
    "from IPython import display\n",
    "import matplotlib.pyplot as plt\n",
    "%matplotlib inline"
   ]
  },
  {
   "cell_type": "markdown",
   "metadata": {},
   "source": [
    "We first create a data using the normal distribution to be the independant variable$x$ and then the independent variable $y$, we put a linear relationship between $x$ and $y$ with some added noise. This example is taken from [1] in refrences. Our objective as the model suggest \"linear regression\" is to find a line \"which is the model\" that best fits to this data. So our objective is to get a predicted $y$, $y_d$ value for any given value of $x$. From the line equation we have,\n",
    "\n",
    "$y_d = W * x + b$. \n",
    "\n",
    "The objective is now translates to finding the right $W$ and $b$ value that best defines the right line which fits to the data in the best way. \n",
    "\n",
    "$W$ is initially fixed (a sampled value from a uniform distribution between -1 and 1) and $b$ is initialized to 0. With these value into consideration we determine $y_d$. A suitable loss function needs to alwasy be carfully chosen to know how wrong the model has been to determine $y_d$, in this example we use the standard mean square error loss function. \n",
    "\n",
    "\n",
    "$mse = \\frac{\\sum_{N}{(y_i - y_{di})^2}}{N}$\n",
    "\n",
    "The gradient descent algorithm takes the computed loss along with another parameter called as the learning rate and determines a new value for $W$ and $b$, such that the new $y_d$ would lead to a lesser loss when evaluted against $y$. This is done iteratively until we have a convergence observed, but a lot has to do with also on the value fixed on the learning rate. The learning rate vlaue theoretically can take a value betwen zero and once, and ideally is a number fixed closer to zero. In the below code observe that the \"train\" object takes in a vlue of \"0.4\" as the learning rate. Run the belwo code and the plot will show you how the model changes with every iteration."
   ]
  },
  {
   "cell_type": "code",
   "execution_count": 2,
   "metadata": {},
   "outputs": [
    {
     "data": {
      "image/png": "[encoded data removed]",
      "text/plain": [
       "<Figure size 432x288 with 1 Axes>"
      ]
     },
     "metadata": {},
     "output_type": "display_data"
    }
   ],
   "source": [
    "x = np.random.normal(0, 0.5, 1000)\n",
    "y = 0.1 * x + 0.2 + np.random.normal(0, 0.08, 1000)\n",
    "\n",
    "W = tf.Variable(tf.random_uniform([1], -1, 1))\n",
    "b = tf.Variable(tf.zeros([1]))\n",
    "\n",
    "yReg = W*x + b\n",
    "loss = tf.reduce_mean(tf.square(y - yReg))\n",
    "train = tf.train.GradientDescentOptimizer(0.4).minimize(loss)\n",
    "\n",
    "sess = tf.Session()\n",
    "sess.run(tf.global_variables_initializer())\n",
    "plt.figure(figsize=(10, 5))\n",
    "\n",
    "def myTrain(iteration):    \n",
    "    global plt\n",
    "    font = {'family': 'serif', \n",
    "            'color':  'blue', \n",
    "            'weight': 'normal', \n",
    "            'size': 10}\n",
    "    sess.run(train)\n",
    "    plt.clf()\n",
    "    plt.plot(x, y, 'ro')\n",
    "    plt.plot(x, sess.run(yReg))\n",
    "    plt.text(1, -0.02, 'iteration: '+ str(iteration+1), fontdict=font)\n",
    "    display.display(plt.gcf())\n",
    "    display.clear_output(wait=True)\n",
    "    plt.pause(0.5)\n",
    "        \n",
    "[myTrain(iteration) for iteration in xrange(50)];"
   ]
  },
  {
   "cell_type": "markdown",
   "metadata": {},
   "source": [
    "Your next objective is now to understand what \"over stepping\" is. If this is something you have covered while learning gradient descent algorithm, this means you know that the learning rate parameter when not appropriate will always skew away from reaching the required minima of your loss function. Try increasing the learning rate value in the above code to some value closer to one and replicate the occurance of over-stepping. This will help you understand over-stepping much better.  "
   ]
  },
  {
   "cell_type": "markdown",
   "metadata": {},
   "source": [
    "#### Refrences\n",
    "[1] [First contact with Tensorflow](http://jorditorres.org/research-teaching/tensorflow/first-contact-with-tensorflow-book/first-contact-with-tensorflow/)"
   ]
  },
  {
   "cell_type": "markdown",
   "metadata": {},
   "source": [
    "To The King"
   ]
  }
 ],
 "metadata": {
  "kernelspec": {
   "display_name": "Python 2",
   "language": "python",
   "name": "python2"
  },
  "language_info": {
   "codemirror_mode": {
    "name": "ipython",
    "version": 2
   },
   "file_extension": ".py",
   "mimetype": "text/x-python",
   "name": "python",
   "nbconvert_exporter": "python",
   "pygments_lexer": "ipython2",
   "version": "2.7.15rc1"
  }
 },
 "nbformat": 4,
 "nbformat_minor": 2
}
